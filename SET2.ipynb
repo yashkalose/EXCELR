{
  "nbformat": 4,
  "nbformat_minor": 0,
  "metadata": {
    "colab": {
      "provenance": []
    },
    "kernelspec": {
      "name": "python3",
      "display_name": "Python 3"
    },
    "language_info": {
      "name": "python"
    }
  },
  "cells": [
    {
      "cell_type": "code",
      "execution_count": null,
      "metadata": {
        "id": "ISOwpusNaz_B"
      },
      "outputs": [],
      "source": [
        "import pandas as pd\n",
        "import numpy as np\n",
        "import scipy.stats as stats\n",
        "import statsmodels.api as smf\n",
        "import warnings\n",
        "warnings.filterwarnings('ignore')"
      ]
    },
    {
      "cell_type": "markdown",
      "source": [
        "QUESTION 1"
      ],
      "metadata": {
        "id": "-hkfNmJkcRNz"
      }
    },
    {
      "cell_type": "code",
      "source": [
        "mew = 55\n",
        "std = 8\n",
        "q1 = stats.norm.sf(60, loc = mew, scale = std)\n",
        "print(\"\"\"The probability that the service manager cannot meet his commitment is\"\"\",np.round(q1,5))"
      ],
      "metadata": {
        "colab": {
          "base_uri": "https://localhost:8080/"
        },
        "id": "WvuLl5c6a65x",
        "outputId": "9a1ba271-1db4-4a03-d9a3-c187204945b9"
      },
      "execution_count": null,
      "outputs": [
        {
          "output_type": "stream",
          "name": "stdout",
          "text": [
            "The probability that the service manager cannot meet his commitment is 0.26599\n"
          ]
        }
      ]
    },
    {
      "cell_type": "markdown",
      "source": [
        "QUESTION 2A"
      ],
      "metadata": {
        "id": "1c-VC_BgcWUS"
      }
    },
    {
      "cell_type": "code",
      "source": [
        "1-stats.norm.cdf(44,loc=38, scale=6)"
      ],
      "metadata": {
        "colab": {
          "base_uri": "https://localhost:8080/"
        },
        "id": "x6vSJGrWbBft",
        "outputId": "3011b1f8-485d-4ce6-b413-fd660fee3e0d"
      },
      "execution_count": null,
      "outputs": [
        {
          "output_type": "execute_result",
          "data": {
            "text/plain": [
              "0.15865525393145707"
            ]
          },
          "metadata": {},
          "execution_count": 4
        }
      ]
    },
    {
      "cell_type": "code",
      "source": [
        "stats.norm.cdf(44,loc=38, scale=6)-stats.norm.cdf(38,loc=38, scale=6)"
      ],
      "metadata": {
        "colab": {
          "base_uri": "https://localhost:8080/"
        },
        "id": "y0uPUBEfb7Sk",
        "outputId": "5b45d8ca-0650-4f46-87b7-b6693c5b0b4e"
      },
      "execution_count": null,
      "outputs": [
        {
          "output_type": "execute_result",
          "data": {
            "text/plain": [
              "0.3413447460685429"
            ]
          },
          "metadata": {},
          "execution_count": 5
        }
      ]
    },
    {
      "cell_type": "markdown",
      "source": [
        "QUESTION 2B"
      ],
      "metadata": {
        "id": "TuIH8HHTcZVA"
      }
    },
    {
      "cell_type": "code",
      "source": [
        "stats.norm.cdf(30,loc=38, scale=6)"
      ],
      "metadata": {
        "colab": {
          "base_uri": "https://localhost:8080/"
        },
        "id": "wsydkKXmb-1F",
        "outputId": "08d9c647-dec7-4c23-aa9f-401533866183"
      },
      "execution_count": null,
      "outputs": [
        {
          "output_type": "execute_result",
          "data": {
            "text/plain": [
              "0.09121121972586788"
            ]
          },
          "metadata": {},
          "execution_count": 6
        }
      ]
    },
    {
      "cell_type": "markdown",
      "source": [
        "QUESTION 2"
      ],
      "metadata": {
        "id": "7hPB5ZHrw4Kw"
      }
    },
    {
      "cell_type": "code",
      "source": [
        "#2 X1 = 2 x N (μ, σ2) = N (2 μ, 4 σ2)\n",
        "#X1 + X2 = N (μ, σ2) + N (μ, σ2) = N (2 μ, 2 σ2)\n",
        "\n",
        "#It means that Var 2 X1 has 2 times more variance value than X1 + X2.\n"
      ],
      "metadata": {
        "id": "pUINSh9_wy2J"
      },
      "execution_count": null,
      "outputs": []
    },
    {
      "cell_type": "markdown",
      "source": [
        "QUESTION 4"
      ],
      "metadata": {
        "id": "Fpyg-QJncdYU"
      }
    },
    {
      "cell_type": "code",
      "source": [
        "stats.norm.interval(0.99, 100, 20)"
      ],
      "metadata": {
        "colab": {
          "base_uri": "https://localhost:8080/"
        },
        "id": "_pQV_H-qcDLU",
        "outputId": "70e91df3-0722-4523-ff95-8ca22de146fd"
      },
      "execution_count": null,
      "outputs": [
        {
          "output_type": "execute_result",
          "data": {
            "text/plain": [
              "(48.48341392902199, 151.516586070978)"
            ]
          },
          "metadata": {},
          "execution_count": 7
        }
      ]
    },
    {
      "cell_type": "markdown",
      "source": [
        "QUESTION 5A"
      ],
      "metadata": {
        "id": "lFTGiM9tcewE"
      }
    },
    {
      "cell_type": "code",
      "source": [
        "stats.norm.interval(0.95, 540, 225)"
      ],
      "metadata": {
        "colab": {
          "base_uri": "https://localhost:8080/"
        },
        "id": "0SxbaMcScFhL",
        "outputId": "2d2d9654-4a66-418d-81ee-e16e37857825"
      },
      "execution_count": null,
      "outputs": [
        {
          "output_type": "execute_result",
          "data": {
            "text/plain": [
              "(99.00810347848784, 980.9918965215122)"
            ]
          },
          "metadata": {},
          "execution_count": 8
        }
      ]
    },
    {
      "cell_type": "markdown",
      "source": [
        "QUESTION 5B"
      ],
      "metadata": {
        "id": "Z8-2OnEZchXA"
      }
    },
    {
      "cell_type": "code",
      "source": [
        "X= 540+(-1.645)*(225)\n",
        "X"
      ],
      "metadata": {
        "colab": {
          "base_uri": "https://localhost:8080/"
        },
        "id": "rPvwMbkncHY0",
        "outputId": "ac6bb171-4b2c-436e-d680-df9122650163"
      },
      "execution_count": null,
      "outputs": [
        {
          "output_type": "execute_result",
          "data": {
            "text/plain": [
              "169.875"
            ]
          },
          "metadata": {},
          "execution_count": 9
        }
      ]
    },
    {
      "cell_type": "markdown",
      "source": [
        "QUESTION 5C"
      ],
      "metadata": {
        "id": "BcwkQfEeclXn"
      }
    },
    {
      "cell_type": "code",
      "source": [
        "stats.norm.cdf(0,5,3)"
      ],
      "metadata": {
        "colab": {
          "base_uri": "https://localhost:8080/"
        },
        "id": "KIZECE_IcJVs",
        "outputId": "8b301cc0-747b-4978-d6f6-bc6270635593"
      },
      "execution_count": null,
      "outputs": [
        {
          "output_type": "execute_result",
          "data": {
            "text/plain": [
              "0.0477903522728147"
            ]
          },
          "metadata": {},
          "execution_count": 10
        }
      ]
    },
    {
      "cell_type": "code",
      "source": [
        "stats.norm.cdf(0,7,4)"
      ],
      "metadata": {
        "colab": {
          "base_uri": "https://localhost:8080/"
        },
        "id": "BLmxoh-LcMIy",
        "outputId": "7a14a89d-71aa-422e-b2b0-fa92a7a567a2"
      },
      "execution_count": null,
      "outputs": [
        {
          "output_type": "execute_result",
          "data": {
            "text/plain": [
              "0.040059156863817086"
            ]
          },
          "metadata": {},
          "execution_count": 11
        }
      ]
    },
    {
      "cell_type": "code",
      "source": [],
      "metadata": {
        "id": "lRg6TMCqcOGj"
      },
      "execution_count": null,
      "outputs": []
    }
  ]
}